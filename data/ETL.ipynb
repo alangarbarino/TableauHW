{
 "cells": [
  {
   "cell_type": "code",
   "execution_count": 141,
   "metadata": {},
   "outputs": [],
   "source": [
    "import numpy as np\n",
    "import pandas as pd \n",
    "import csv"
   ]
  },
  {
   "cell_type": "code",
   "execution_count": 23,
   "metadata": {},
   "outputs": [
    {
     "data": {
      "text/html": [
       "<div>\n",
       "<style scoped>\n",
       "    .dataframe tbody tr th:only-of-type {\n",
       "        vertical-align: middle;\n",
       "    }\n",
       "\n",
       "    .dataframe tbody tr th {\n",
       "        vertical-align: top;\n",
       "    }\n",
       "\n",
       "    .dataframe thead th {\n",
       "        text-align: right;\n",
       "    }\n",
       "</style>\n",
       "<table border=\"1\" class=\"dataframe\">\n",
       "  <thead>\n",
       "    <tr style=\"text-align: right;\">\n",
       "      <th></th>\n",
       "      <th>start station id</th>\n",
       "      <th>start station name</th>\n",
       "      <th>start station latitude</th>\n",
       "      <th>start station longitude</th>\n",
       "    </tr>\n",
       "  </thead>\n",
       "  <tbody>\n",
       "    <tr>\n",
       "      <th>0</th>\n",
       "      <td>72</td>\n",
       "      <td>W 52 St &amp; 11 Ave</td>\n",
       "      <td>40.767</td>\n",
       "      <td>-73.994</td>\n",
       "    </tr>\n",
       "    <tr>\n",
       "      <th>1</th>\n",
       "      <td>79</td>\n",
       "      <td>Franklin St &amp; W Broadway</td>\n",
       "      <td>40.719</td>\n",
       "      <td>-74.007</td>\n",
       "    </tr>\n",
       "    <tr>\n",
       "      <th>2</th>\n",
       "      <td>82</td>\n",
       "      <td>St James Pl &amp; Pearl St</td>\n",
       "      <td>40.711</td>\n",
       "      <td>-74.000</td>\n",
       "    </tr>\n",
       "    <tr>\n",
       "      <th>3</th>\n",
       "      <td>83</td>\n",
       "      <td>Atlantic Ave &amp; Fort Greene Pl</td>\n",
       "      <td>40.684</td>\n",
       "      <td>-73.976</td>\n",
       "    </tr>\n",
       "    <tr>\n",
       "      <th>4</th>\n",
       "      <td>119</td>\n",
       "      <td>Park Ave &amp; St Edwards St</td>\n",
       "      <td>40.696</td>\n",
       "      <td>-73.978</td>\n",
       "    </tr>\n",
       "  </tbody>\n",
       "</table>\n",
       "</div>"
      ],
      "text/plain": [
       "   start station id             start station name  start station latitude  \\\n",
       "0                72               W 52 St & 11 Ave                  40.767   \n",
       "1                79       Franklin St & W Broadway                  40.719   \n",
       "2                82         St James Pl & Pearl St                  40.711   \n",
       "3                83  Atlantic Ave & Fort Greene Pl                  40.684   \n",
       "4               119       Park Ave & St Edwards St                  40.696   \n",
       "\n",
       "   start station longitude  \n",
       "0                  -73.994  \n",
       "1                  -74.007  \n",
       "2                  -74.000  \n",
       "3                  -73.976  \n",
       "4                  -73.978  "
      ]
     },
     "execution_count": 23,
     "metadata": {},
     "output_type": "execute_result"
    }
   ],
   "source": [
    "stations_df = pd.read_csv(\"stations.csv\") \n",
    "stations_start_df = stations_df.rename(columns={\"station_id\": \"start station id\", \"name\": \"start station name\", \"lat\": \"start station latitude\", \"lon\": \"start station longitude\"})\n",
    "stations_start_df.head()"
   ]
  },
  {
   "cell_type": "code",
   "execution_count": 24,
   "metadata": {},
   "outputs": [
    {
     "data": {
      "text/html": [
       "<div>\n",
       "<style scoped>\n",
       "    .dataframe tbody tr th:only-of-type {\n",
       "        vertical-align: middle;\n",
       "    }\n",
       "\n",
       "    .dataframe tbody tr th {\n",
       "        vertical-align: top;\n",
       "    }\n",
       "\n",
       "    .dataframe thead th {\n",
       "        text-align: right;\n",
       "    }\n",
       "</style>\n",
       "<table border=\"1\" class=\"dataframe\">\n",
       "  <thead>\n",
       "    <tr style=\"text-align: right;\">\n",
       "      <th></th>\n",
       "      <th>end station id</th>\n",
       "      <th>end station name</th>\n",
       "      <th>end station latitude</th>\n",
       "      <th>end station longitude</th>\n",
       "    </tr>\n",
       "  </thead>\n",
       "  <tbody>\n",
       "    <tr>\n",
       "      <th>0</th>\n",
       "      <td>72</td>\n",
       "      <td>W 52 St &amp; 11 Ave</td>\n",
       "      <td>40.767</td>\n",
       "      <td>-73.994</td>\n",
       "    </tr>\n",
       "    <tr>\n",
       "      <th>1</th>\n",
       "      <td>79</td>\n",
       "      <td>Franklin St &amp; W Broadway</td>\n",
       "      <td>40.719</td>\n",
       "      <td>-74.007</td>\n",
       "    </tr>\n",
       "    <tr>\n",
       "      <th>2</th>\n",
       "      <td>82</td>\n",
       "      <td>St James Pl &amp; Pearl St</td>\n",
       "      <td>40.711</td>\n",
       "      <td>-74.000</td>\n",
       "    </tr>\n",
       "    <tr>\n",
       "      <th>3</th>\n",
       "      <td>83</td>\n",
       "      <td>Atlantic Ave &amp; Fort Greene Pl</td>\n",
       "      <td>40.684</td>\n",
       "      <td>-73.976</td>\n",
       "    </tr>\n",
       "    <tr>\n",
       "      <th>4</th>\n",
       "      <td>119</td>\n",
       "      <td>Park Ave &amp; St Edwards St</td>\n",
       "      <td>40.696</td>\n",
       "      <td>-73.978</td>\n",
       "    </tr>\n",
       "  </tbody>\n",
       "</table>\n",
       "</div>"
      ],
      "text/plain": [
       "   end station id               end station name  end station latitude  \\\n",
       "0              72               W 52 St & 11 Ave                40.767   \n",
       "1              79       Franklin St & W Broadway                40.719   \n",
       "2              82         St James Pl & Pearl St                40.711   \n",
       "3              83  Atlantic Ave & Fort Greene Pl                40.684   \n",
       "4             119       Park Ave & St Edwards St                40.696   \n",
       "\n",
       "   end station longitude  \n",
       "0                -73.994  \n",
       "1                -74.007  \n",
       "2                -74.000  \n",
       "3                -73.976  \n",
       "4                -73.978  "
      ]
     },
     "execution_count": 24,
     "metadata": {},
     "output_type": "execute_result"
    }
   ],
   "source": [
    "stations_end_df = stations_df.rename(columns={\"station_id\": \"end station id\", \"name\": \"end station name\",\"lat\": \"end station latitude\", \"lon\": \"end station longitude\"})\n",
    "stations_end_df.head()"
   ]
  },
  {
   "cell_type": "markdown",
   "metadata": {},
   "source": [
    "# LOOP THROUGH FILES"
   ]
  },
  {
   "cell_type": "code",
   "execution_count": 131,
   "metadata": {},
   "outputs": [
    {
     "data": {
      "text/html": [
       "<div>\n",
       "<style scoped>\n",
       "    .dataframe tbody tr th:only-of-type {\n",
       "        vertical-align: middle;\n",
       "    }\n",
       "\n",
       "    .dataframe tbody tr th {\n",
       "        vertical-align: top;\n",
       "    }\n",
       "\n",
       "    .dataframe thead th {\n",
       "        text-align: right;\n",
       "    }\n",
       "</style>\n",
       "<table border=\"1\" class=\"dataframe\">\n",
       "  <thead>\n",
       "    <tr style=\"text-align: right;\">\n",
       "      <th></th>\n",
       "      <th>tripduration</th>\n",
       "      <th>starttime</th>\n",
       "      <th>stoptime</th>\n",
       "      <th>start station id</th>\n",
       "      <th>start station name</th>\n",
       "      <th>start station latitude</th>\n",
       "      <th>start station longitude</th>\n",
       "      <th>end station id</th>\n",
       "      <th>end station name</th>\n",
       "      <th>end station latitude</th>\n",
       "      <th>end station longitude</th>\n",
       "      <th>bikeid</th>\n",
       "      <th>usertype</th>\n",
       "      <th>birth year</th>\n",
       "      <th>gender</th>\n",
       "    </tr>\n",
       "  </thead>\n",
       "  <tbody>\n",
       "    <tr>\n",
       "      <th>0</th>\n",
       "      <td>1463</td>\n",
       "      <td>2019-03-01 00:00:16.0970</td>\n",
       "      <td>2019-03-01 00:24:39.3880</td>\n",
       "      <td>319.0</td>\n",
       "      <td>Fulton St &amp; Broadway</td>\n",
       "      <td>40.711066</td>\n",
       "      <td>-74.009447</td>\n",
       "      <td>347.0</td>\n",
       "      <td>Greenwich St &amp; W Houston St</td>\n",
       "      <td>40.728846</td>\n",
       "      <td>-74.008591</td>\n",
       "      <td>35618</td>\n",
       "      <td>Subscriber</td>\n",
       "      <td>1989</td>\n",
       "      <td>1</td>\n",
       "    </tr>\n",
       "    <tr>\n",
       "      <th>1</th>\n",
       "      <td>285</td>\n",
       "      <td>2019-03-01 00:00:32.3850</td>\n",
       "      <td>2019-03-01 00:05:18.1830</td>\n",
       "      <td>439.0</td>\n",
       "      <td>E 4 St &amp; 2 Ave</td>\n",
       "      <td>40.726281</td>\n",
       "      <td>-73.989780</td>\n",
       "      <td>150.0</td>\n",
       "      <td>E 2 St &amp; Avenue C</td>\n",
       "      <td>40.720874</td>\n",
       "      <td>-73.980858</td>\n",
       "      <td>31113</td>\n",
       "      <td>Subscriber</td>\n",
       "      <td>1980</td>\n",
       "      <td>1</td>\n",
       "    </tr>\n",
       "    <tr>\n",
       "      <th>2</th>\n",
       "      <td>686</td>\n",
       "      <td>2019-03-01 00:00:47.7970</td>\n",
       "      <td>2019-03-01 00:12:14.3090</td>\n",
       "      <td>526.0</td>\n",
       "      <td>E 33 St &amp; 5 Ave</td>\n",
       "      <td>40.747659</td>\n",
       "      <td>-73.984907</td>\n",
       "      <td>3474.0</td>\n",
       "      <td>6 Ave &amp; Spring St</td>\n",
       "      <td>40.725256</td>\n",
       "      <td>-74.004121</td>\n",
       "      <td>19617</td>\n",
       "      <td>Subscriber</td>\n",
       "      <td>1987</td>\n",
       "      <td>1</td>\n",
       "    </tr>\n",
       "    <tr>\n",
       "      <th>3</th>\n",
       "      <td>442</td>\n",
       "      <td>2019-03-01 00:01:01.2090</td>\n",
       "      <td>2019-03-01 00:08:23.7510</td>\n",
       "      <td>3474.0</td>\n",
       "      <td>6 Ave &amp; Spring St</td>\n",
       "      <td>40.725256</td>\n",
       "      <td>-74.004121</td>\n",
       "      <td>355.0</td>\n",
       "      <td>Bayard St &amp; Baxter St</td>\n",
       "      <td>40.716021</td>\n",
       "      <td>-73.999744</td>\n",
       "      <td>27086</td>\n",
       "      <td>Subscriber</td>\n",
       "      <td>1987</td>\n",
       "      <td>2</td>\n",
       "    </tr>\n",
       "    <tr>\n",
       "      <th>4</th>\n",
       "      <td>2913</td>\n",
       "      <td>2019-03-01 00:01:09.2810</td>\n",
       "      <td>2019-03-01 00:49:42.3810</td>\n",
       "      <td>379.0</td>\n",
       "      <td>W 31 St &amp; 7 Ave</td>\n",
       "      <td>40.749156</td>\n",
       "      <td>-73.991600</td>\n",
       "      <td>212.0</td>\n",
       "      <td>W 16 St &amp; The High Line</td>\n",
       "      <td>40.743349</td>\n",
       "      <td>-74.006818</td>\n",
       "      <td>34791</td>\n",
       "      <td>Subscriber</td>\n",
       "      <td>1991</td>\n",
       "      <td>1</td>\n",
       "    </tr>\n",
       "  </tbody>\n",
       "</table>\n",
       "</div>"
      ],
      "text/plain": [
       "   tripduration                 starttime                  stoptime  \\\n",
       "0          1463  2019-03-01 00:00:16.0970  2019-03-01 00:24:39.3880   \n",
       "1           285  2019-03-01 00:00:32.3850  2019-03-01 00:05:18.1830   \n",
       "2           686  2019-03-01 00:00:47.7970  2019-03-01 00:12:14.3090   \n",
       "3           442  2019-03-01 00:01:01.2090  2019-03-01 00:08:23.7510   \n",
       "4          2913  2019-03-01 00:01:09.2810  2019-03-01 00:49:42.3810   \n",
       "\n",
       "   start station id    start station name  start station latitude  \\\n",
       "0             319.0  Fulton St & Broadway               40.711066   \n",
       "1             439.0        E 4 St & 2 Ave               40.726281   \n",
       "2             526.0       E 33 St & 5 Ave               40.747659   \n",
       "3            3474.0     6 Ave & Spring St               40.725256   \n",
       "4             379.0       W 31 St & 7 Ave               40.749156   \n",
       "\n",
       "   start station longitude  end station id             end station name  \\\n",
       "0               -74.009447           347.0  Greenwich St & W Houston St   \n",
       "1               -73.989780           150.0            E 2 St & Avenue C   \n",
       "2               -73.984907          3474.0            6 Ave & Spring St   \n",
       "3               -74.004121           355.0        Bayard St & Baxter St   \n",
       "4               -73.991600           212.0      W 16 St & The High Line   \n",
       "\n",
       "   end station latitude  end station longitude  bikeid    usertype  \\\n",
       "0             40.728846             -74.008591   35618  Subscriber   \n",
       "1             40.720874             -73.980858   31113  Subscriber   \n",
       "2             40.725256             -74.004121   19617  Subscriber   \n",
       "3             40.716021             -73.999744   27086  Subscriber   \n",
       "4             40.743349             -74.006818   34791  Subscriber   \n",
       "\n",
       "   birth year  gender  \n",
       "0        1989       1  \n",
       "1        1980       1  \n",
       "2        1987       1  \n",
       "3        1987       2  \n",
       "4        1991       1  "
      ]
     },
     "execution_count": 131,
     "metadata": {},
     "output_type": "execute_result"
    }
   ],
   "source": [
    "data_df = pd.read_csv(\"201903-citibike-tripdata.csv\") \n",
    "data_df.head()\n"
   ]
  },
  {
   "cell_type": "code",
   "execution_count": null,
   "metadata": {},
   "outputs": [],
   "source": [
    "data_df.count()"
   ]
  },
  {
   "cell_type": "markdown",
   "metadata": {},
   "source": [
    "# SCRUB DATA IF COUNTS DON'T MATCH - only invalid long/lat found"
   ]
  },
  {
   "cell_type": "code",
   "execution_count": null,
   "metadata": {},
   "outputs": [],
   "source": [
    "scrub_df = data_df[data_df.isnull().any(axis=1)]"
   ]
  },
  {
   "cell_type": "code",
   "execution_count": null,
   "metadata": {},
   "outputs": [],
   "source": [
    "scrub_df.head()"
   ]
  },
  {
   "cell_type": "code",
   "execution_count": null,
   "metadata": {},
   "outputs": [],
   "source": [
    "data_df.dropna(inplace = True)\n",
    "data_df.count()"
   ]
  },
  {
   "cell_type": "markdown",
   "metadata": {},
   "source": [
    "# INITIALIZE COMBINED DATASET WITH FIRST DATASET"
   ]
  },
  {
   "cell_type": "code",
   "execution_count": null,
   "metadata": {},
   "outputs": [],
   "source": [
    "combined_df=data_df"
   ]
  },
  {
   "cell_type": "markdown",
   "metadata": {},
   "source": [
    "# APPEND SCRUBBED DATA TO COMBINED DATASET"
   ]
  },
  {
   "cell_type": "code",
   "execution_count": 132,
   "metadata": {},
   "outputs": [],
   "source": [
    "combined_df=combined_df.append(data_df)"
   ]
  },
  {
   "cell_type": "code",
   "execution_count": 134,
   "metadata": {},
   "outputs": [
    {
     "data": {
      "text/plain": [
       "tripduration               18246016\n",
       "starttime                  18246016\n",
       "stoptime                   18246016\n",
       "start station id           18246016\n",
       "start station name         18246016\n",
       "start station latitude     18246016\n",
       "start station longitude    18246016\n",
       "end station id             18246016\n",
       "end station name           18246016\n",
       "end station latitude       18246016\n",
       "end station longitude      18246016\n",
       "bikeid                     18246016\n",
       "usertype                   18246016\n",
       "birth year                 18246016\n",
       "gender                     18246016\n",
       "dtype: int64"
      ]
     },
     "execution_count": 134,
     "metadata": {},
     "output_type": "execute_result"
    }
   ],
   "source": [
    "combined_df.count()"
   ]
  },
  {
   "cell_type": "markdown",
   "metadata": {},
   "source": [
    "# DROP NA IN COMBINED IF MISSED EARLIER"
   ]
  },
  {
   "cell_type": "code",
   "execution_count": 133,
   "metadata": {},
   "outputs": [],
   "source": [
    "combined_df.dropna(inplace = True)"
   ]
  },
  {
   "cell_type": "code",
   "execution_count": 137,
   "metadata": {},
   "outputs": [
    {
     "data": {
      "text/plain": [
       "1920"
      ]
     },
     "execution_count": 137,
     "metadata": {},
     "output_type": "execute_result"
    }
   ],
   "source": [
    "# Drop record if birth year < 1920 or > 2014\n",
    "\n",
    "age1_df = combined_df[combined_df['birth year'] >= 1920]\n",
    "age1_df['birth year'].min()"
   ]
  },
  {
   "cell_type": "code",
   "execution_count": 140,
   "metadata": {},
   "outputs": [
    {
     "data": {
      "text/plain": [
       "2003"
      ]
     },
     "execution_count": 140,
     "metadata": {},
     "output_type": "execute_result"
    }
   ],
   "source": [
    "age2_df = final_df[age1_df['birth year'] <= 2014]   \n",
    "age2_df['birth year'].max()"
   ]
  },
  {
   "cell_type": "code",
   "execution_count": 145,
   "metadata": {},
   "outputs": [],
   "source": [
    "# write final data to CSV file\n",
    "\n",
    "age2_df.to_csv('alltripdata.csv', index=False)"
   ]
  },
  {
   "cell_type": "code",
   "execution_count": 144,
   "metadata": {},
   "outputs": [
    {
     "data": {
      "text/plain": [
       "tripduration               18234536\n",
       "starttime                  18234536\n",
       "stoptime                   18234536\n",
       "start station id           18234536\n",
       "start station name         18234536\n",
       "start station latitude     18234536\n",
       "start station longitude    18234536\n",
       "end station id             18234536\n",
       "end station name           18234536\n",
       "end station latitude       18234536\n",
       "end station longitude      18234536\n",
       "bikeid                     18234536\n",
       "usertype                   18234536\n",
       "birth year                 18234536\n",
       "gender                     18234536\n",
       "dtype: int64"
      ]
     },
     "execution_count": 144,
     "metadata": {},
     "output_type": "execute_result"
    }
   ],
   "source": [
    "age2_df.count()\n"
   ]
  },
  {
   "cell_type": "code",
   "execution_count": null,
   "metadata": {},
   "outputs": [],
   "source": []
  }
 ],
 "metadata": {
  "kernelspec": {
   "display_name": "Python 3",
   "language": "python",
   "name": "python3"
  },
  "language_info": {
   "codemirror_mode": {
    "name": "ipython",
    "version": 3
   },
   "file_extension": ".py",
   "mimetype": "text/x-python",
   "name": "python",
   "nbconvert_exporter": "python",
   "pygments_lexer": "ipython3",
   "version": "3.7.0"
  }
 },
 "nbformat": 4,
 "nbformat_minor": 2
}
